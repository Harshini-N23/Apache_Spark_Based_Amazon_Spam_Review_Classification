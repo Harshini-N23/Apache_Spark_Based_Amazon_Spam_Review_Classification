{
 "cells": [
  {
   "cell_type": "markdown",
   "metadata": {},
   "source": [
    "## Importing the necessary libraries"
   ]
  },
  {
   "cell_type": "code",
   "execution_count": 1,
   "metadata": {},
   "outputs": [],
   "source": [
    "import os\n",
    "import pandas as pd\n",
    "import findspark\n",
    "import re"
   ]
  },
  {
   "cell_type": "code",
   "execution_count": 2,
   "metadata": {},
   "outputs": [],
   "source": [
    "from pyspark.sql import SparkSession\n",
    "from pyspark.sql.functions import col, length, udf\n",
    "from pyspark.sql.types import StringType"
   ]
  },
  {
   "cell_type": "code",
   "execution_count": 3,
   "metadata": {},
   "outputs": [],
   "source": [
    "from pyspark.ml.feature import Tokenizer, StopWordsRemover, HashingTF, IDF\n",
    "from pyspark.ml.classification import RandomForestClassifier, NaiveBayes, DecisionTreeClassifier, LogisticRegression\n",
    "from pyspark.ml import Pipeline\n",
    "from pyspark.ml.evaluation import MulticlassClassificationEvaluator,BinaryClassificationEvaluator"
   ]
  },
  {
   "cell_type": "code",
   "execution_count": 4,
   "metadata": {},
   "outputs": [],
   "source": [
    "\n",
    "from sklearn.metrics import confusion_matrix, classification_report"
   ]
  },
  {
   "cell_type": "markdown",
   "metadata": {},
   "source": [
    "## Verifying the directories of Java and Spark"
   ]
  },
  {
   "cell_type": "code",
   "execution_count": 5,
   "metadata": {},
   "outputs": [
    {
     "name": "stdout",
     "output_type": "stream",
     "text": [
      "JAVA_HOME: C:\\Java\n",
      "SPARK_HOME: C:\\Spark\\spark-3.4.1-bin-hadoop3\n"
     ]
    }
   ],
   "source": [
    "print(\"JAVA_HOME:\", os.environ.get(\"JAVA_HOME\"))\n",
    "print(\"SPARK_HOME:\", os.environ.get(\"SPARK_HOME\"))\n"
   ]
  },
  {
   "cell_type": "markdown",
   "metadata": {},
   "source": [
    "## Initializing the Spark Session"
   ]
  },
  {
   "cell_type": "code",
   "execution_count": 6,
   "metadata": {},
   "outputs": [
    {
     "data": {
      "text/html": [
       "\n",
       "            <div>\n",
       "                <p><b>SparkSession - in-memory</b></p>\n",
       "                \n",
       "        <div>\n",
       "            <p><b>SparkContext</b></p>\n",
       "\n",
       "            <p><a href=\"http://DESKTOP-K0RLDTE:4040\">Spark UI</a></p>\n",
       "\n",
       "            <dl>\n",
       "              <dt>Version</dt>\n",
       "                <dd><code>v3.4.1</code></dd>\n",
       "              <dt>Master</dt>\n",
       "                <dd><code>spark://192.168.0.103:7077</code></dd>\n",
       "              <dt>AppName</dt>\n",
       "                <dd><code>pyspark-shell</code></dd>\n",
       "            </dl>\n",
       "        </div>\n",
       "        \n",
       "            </div>\n",
       "        "
      ],
      "text/plain": [
       "<pyspark.sql.session.SparkSession at 0x17dd3ca69d0>"
      ]
     },
     "execution_count": 6,
     "metadata": {},
     "output_type": "execute_result"
    }
   ],
   "source": [
    "findspark.init()\n",
    "spark = SparkSession.builder.master(\"spark://192.168.0.103:7077\").getOrCreate()\n",
    "spark.conf.set(\"spark.sql.repl.eagerEval.enabled\", True) # Property used to format output tables better\n",
    "spark"
   ]
  },
  {
   "cell_type": "markdown",
   "metadata": {},
   "source": [
    "## Loading the Data"
   ]
  },
  {
   "cell_type": "code",
   "execution_count": 7,
   "metadata": {},
   "outputs": [],
   "source": [
    "data = spark.read.json(\"E:\\MSc_DS_4\\spark_project\\code\\Clothing_Shoes_and_Jewelry.json\")"
   ]
  },
  {
   "cell_type": "markdown",
   "metadata": {},
   "source": [
    "## Description of the Data"
   ]
  },
  {
   "cell_type": "code",
   "execution_count": 8,
   "metadata": {},
   "outputs": [
    {
     "data": {
      "text/plain": [
       "['_id',\n",
       " 'asin',\n",
       " 'category',\n",
       " 'class',\n",
       " 'helpful',\n",
       " 'overall',\n",
       " 'reviewText',\n",
       " 'reviewTime',\n",
       " 'reviewerID',\n",
       " 'reviewerName',\n",
       " 'summary',\n",
       " 'unixReviewTime']"
      ]
     },
     "execution_count": 8,
     "metadata": {},
     "output_type": "execute_result"
    }
   ],
   "source": [
    "data.columns"
   ]
  },
  {
   "cell_type": "code",
   "execution_count": 9,
   "metadata": {},
   "outputs": [
    {
     "name": "stdout",
     "output_type": "stream",
     "text": [
      "+--------------------------+----------+--------------------------+-----+-------+-------+------------------------------------------------------------------------------------------------------------------------------------------------------------------------------------------------------------------------------------------------------------------------------------------------------------------------------------------------------------------------------------------------------------------------------------------------------------------------------------------------------------------------------------------------------------------------------------------------------------------------------------------------------------------------------------------------+-----------+--------------+---------------------------------+-----------------------------+--------------+\n",
      "|_id                       |asin      |category                  |class|helpful|overall|reviewText                                                                                                                                                                                                                                                                                                                                                                                                                                                                                                                                                                                                                                                                                      |reviewTime |reviewerID    |reviewerName                     |summary                      |unixReviewTime|\n",
      "+--------------------------+----------+--------------------------+-----+-------+-------+------------------------------------------------------------------------------------------------------------------------------------------------------------------------------------------------------------------------------------------------------------------------------------------------------------------------------------------------------------------------------------------------------------------------------------------------------------------------------------------------------------------------------------------------------------------------------------------------------------------------------------------------------------------------------------------------+-----------+--------------+---------------------------------+-----------------------------+--------------+\n",
      "|{5a132293741a2384e8376cbc}|0000031887|Clothing_Shoes_and_Jewelry|0.0  |[0, 1] |1.0    |My 3-yr-old daughter received this as a gift for her birthday.  She's no pixy, but she's not huge either, and it was VERY tight on her, so I doubt a 6 year old can fit it comfortably.  The tutu fell apart after 12 hours -- the satin waistband detached from the tulle.  Unless twirling counts as rough wear, I'd say this was poorly constructed.  I sent two messages to Sydney So Sweet directly, trying to get a replacement or at least some kind of acknowledgement and NOTHING.  So ... crappy construction and crappy customer service.  I already don't like tutu/fairy/princess stuff, and this just furthers my opinion that companies like this are preying on daughters.  Boo!|03 21, 2013|A19PBP93OF896 |Alinna Satake \"Can't Stop Eating\"|Tiny and Poorly Constructed! |1363824000    |\n",
      "|{5a132293741a2384e8376cb9}|0000031887|Clothing_Shoes_and_Jewelry|1.0  |[1, 1] |4.0    |This was a really cute tutu the only problem is that it was super short on my 5 yr old daughter. Other than that it was really adorable.                                                                                                                                                                                                                                                                                                                                                                                                                                                                                                                                                        |05 26, 2012|A2G0LNLN79Q6HR|aj_18 \"Aj_18\"                    |Really Cute but rather short.|1337990400    |\n",
      "|{5a132293741a2384e8376cba}|0000031887|Clothing_Shoes_and_Jewelry|1.0  |[0, 0] |5.0    |Perfect red tutu for the price. I baught it as part of my daughters Halloween costume and it looked great on her.                                                                                                                                                                                                                                                                                                                                                                                                                                                                                                                                                                               |11 4, 2013 |A2XVJBSRI3SWDI|abigail                          |Nice tutu                    |1383523200    |\n",
      "|{5a132293741a2384e8376cbd}|0000031887|Clothing_Shoes_and_Jewelry|1.0  |[0, 0] |4.0    |Bought it for my daughters first birthday which is lady bug themed and it fits perfect the stitching is a little loose but only need it one day                                                                                                                                                                                                                                                                                                                                                                                                                                                                                                                                                 |01 23, 2014|A1P0IHU93EF9ZK|Amanda                           |i love it                    |1390435200    |\n",
      "|{5a132293741a2384e8376cbe}|0000031887|Clothing_Shoes_and_Jewelry|1.0  |[0, 0] |5.0    |This is a great tutu and at a really great price. It doesn't look cheap at all. I'm so glad I looked on Amazon and found such an affordable tutu that isn't made poorly. A++                                                                                                                                                                                                                                                                                                                                                                                                                                                                                                                    |02 12, 2011|A1KLRMWW2FWPL4|Amazon Customer \"cameramom\"      |Great tutu-  not cheaply made|1297468800    |\n",
      "+--------------------------+----------+--------------------------+-----+-------+-------+------------------------------------------------------------------------------------------------------------------------------------------------------------------------------------------------------------------------------------------------------------------------------------------------------------------------------------------------------------------------------------------------------------------------------------------------------------------------------------------------------------------------------------------------------------------------------------------------------------------------------------------------------------------------------------------------+-----------+--------------+---------------------------------+-----------------------------+--------------+\n",
      "only showing top 5 rows\n",
      "\n"
     ]
    }
   ],
   "source": [
    "data.show(n=5, truncate=0)"
   ]
  },
  {
   "cell_type": "code",
   "execution_count": 10,
   "metadata": {},
   "outputs": [
    {
     "data": {
      "text/html": [
       "<table border='1'>\n",
       "<tr><th>class</th><th>count</th></tr>\n",
       "<tr><td>0.0</td><td>1169449</td></tr>\n",
       "<tr><td>1.0</td><td>4334882</td></tr>\n",
       "</table>\n"
      ],
      "text/plain": [
       "+-----+-------+\n",
       "|class|  count|\n",
       "+-----+-------+\n",
       "|  0.0|1169449|\n",
       "|  1.0|4334882|\n",
       "+-----+-------+"
      ]
     },
     "execution_count": 10,
     "metadata": {},
     "output_type": "execute_result"
    }
   ],
   "source": [
    "data.groupby('class').count()"
   ]
  },
  {
   "cell_type": "code",
   "execution_count": 8,
   "metadata": {},
   "outputs": [],
   "source": [
    "final_data = data.select(\"reviewText\", \"class\")"
   ]
  },
  {
   "cell_type": "code",
   "execution_count": 9,
   "metadata": {},
   "outputs": [
    {
     "name": "stdout",
     "output_type": "stream",
     "text": [
      "+--------------------+-----+------+\n",
      "|          reviewText|class|length|\n",
      "+--------------------+-----+------+\n",
      "|My 3-yr-old daugh...|  0.0|   672|\n",
      "|This was a really...|  1.0|   136|\n",
      "|Perfect red tutu ...|  1.0|   113|\n",
      "|Bought it for my ...|  1.0|   143|\n",
      "|This is a great t...|  1.0|   172|\n",
      "|Got this for our ...|  1.0|   109|\n",
      "|the tutu color wa...|  0.0|   236|\n",
      "|Just as described...|  1.0|   236|\n",
      "|I bought this for...|  1.0|   306|\n",
      "|This really is a ...|  1.0|   166|\n",
      "|I ordered this fo...|  1.0|   234|\n",
      "|Vey cute and perf...|  1.0|   101|\n",
      "|Loved it and so d...|  1.0|   139|\n",
      "|Purchased it for ...|  1.0|   135|\n",
      "|Very cute, shorte...|  1.0|   462|\n",
      "|Our 3-year-old pe...|  1.0|   134|\n",
      "|The waistband was...|  0.0|   123|\n",
      "|The tutu's was fo...|  1.0|   187|\n",
      "|My 5 year old dau...|  1.0|   110|\n",
      "|I just got this t...|  1.0|   701|\n",
      "+--------------------+-----+------+\n",
      "only showing top 20 rows\n",
      "\n"
     ]
    }
   ],
   "source": [
    "\n",
    "len_text = final_data.withColumn('length',length(final_data['reviewText']))\n",
    "len_text.show()"
   ]
  },
  {
   "cell_type": "markdown",
   "metadata": {},
   "source": [
    "## Data Pre-processing"
   ]
  },
  {
   "cell_type": "code",
   "execution_count": 10,
   "metadata": {},
   "outputs": [],
   "source": [
    "def remove_special_chars_and_links(text):\n",
    "    text = re.sub(r\"http\\S+\", \"\", text)\n",
    "    text = re.sub(r\"[^a-zA-Z0-9\\s]\", \"\", text)\n",
    "    return text"
   ]
  },
  {
   "cell_type": "code",
   "execution_count": 11,
   "metadata": {},
   "outputs": [],
   "source": [
    "remove_special_chars_and_links_udf = udf(remove_special_chars_and_links, StringType())"
   ]
  },
  {
   "cell_type": "code",
   "execution_count": 12,
   "metadata": {},
   "outputs": [],
   "source": [
    "final_data = final_data.withColumn(\"processed_text\", remove_special_chars_and_links_udf(col(\"reviewText\")))"
   ]
  },
  {
   "cell_type": "code",
   "execution_count": 13,
   "metadata": {},
   "outputs": [
    {
     "name": "stdout",
     "output_type": "stream",
     "text": [
      "+------------------------------------------------------------------------------------------------------------------------------------------------------------------------------------------------------------------------------------------------------------------------------------------------------------------------------------------------------------------------------------------------------------------------------------------------------------------------------------------------------------------------------------------------------------------------------------------------------------------------------------------------------------------------------------------------+-----+---------------------------------------------------------------------------------------------------------------------------------------------------------------------------------------------------------------------------------------------------------------------------------------------------------------------------------------------------------------------------------------------------------------------------------------------------------------------------------------------------------------------------------------------------------------------------------------------------------------------------------------------------------------------+\n",
      "|reviewText                                                                                                                                                                                                                                                                                                                                                                                                                                                                                                                                                                                                                                                                                      |class|processed_text                                                                                                                                                                                                                                                                                                                                                                                                                                                                                                                                                                                                                                                       |\n",
      "+------------------------------------------------------------------------------------------------------------------------------------------------------------------------------------------------------------------------------------------------------------------------------------------------------------------------------------------------------------------------------------------------------------------------------------------------------------------------------------------------------------------------------------------------------------------------------------------------------------------------------------------------------------------------------------------------+-----+---------------------------------------------------------------------------------------------------------------------------------------------------------------------------------------------------------------------------------------------------------------------------------------------------------------------------------------------------------------------------------------------------------------------------------------------------------------------------------------------------------------------------------------------------------------------------------------------------------------------------------------------------------------------+\n",
      "|My 3-yr-old daughter received this as a gift for her birthday.  She's no pixy, but she's not huge either, and it was VERY tight on her, so I doubt a 6 year old can fit it comfortably.  The tutu fell apart after 12 hours -- the satin waistband detached from the tulle.  Unless twirling counts as rough wear, I'd say this was poorly constructed.  I sent two messages to Sydney So Sweet directly, trying to get a replacement or at least some kind of acknowledgement and NOTHING.  So ... crappy construction and crappy customer service.  I already don't like tutu/fairy/princess stuff, and this just furthers my opinion that companies like this are preying on daughters.  Boo!|0.0  |My 3yrold daughter received this as a gift for her birthday  Shes no pixy but shes not huge either and it was VERY tight on her so I doubt a 6 year old can fit it comfortably  The tutu fell apart after 12 hours  the satin waistband detached from the tulle  Unless twirling counts as rough wear Id say this was poorly constructed  I sent two messages to Sydney So Sweet directly trying to get a replacement or at least some kind of acknowledgement and NOTHING  So  crappy construction and crappy customer service  I already dont like tutufairyprincess stuff and this just furthers my opinion that companies like this are preying on daughters  Boo|\n",
      "|This was a really cute tutu the only problem is that it was super short on my 5 yr old daughter. Other than that it was really adorable.                                                                                                                                                                                                                                                                                                                                                                                                                                                                                                                                                        |1.0  |This was a really cute tutu the only problem is that it was super short on my 5 yr old daughter Other than that it was really adorable                                                                                                                                                                                                                                                                                                                                                                                                                                                                                                                               |\n",
      "|Perfect red tutu for the price. I baught it as part of my daughters Halloween costume and it looked great on her.                                                                                                                                                                                                                                                                                                                                                                                                                                                                                                                                                                               |1.0  |Perfect red tutu for the price I baught it as part of my daughters Halloween costume and it looked great on her                                                                                                                                                                                                                                                                                                                                                                                                                                                                                                                                                      |\n",
      "|Bought it for my daughters first birthday which is lady bug themed and it fits perfect the stitching is a little loose but only need it one day                                                                                                                                                                                                                                                                                                                                                                                                                                                                                                                                                 |1.0  |Bought it for my daughters first birthday which is lady bug themed and it fits perfect the stitching is a little loose but only need it one day                                                                                                                                                                                                                                                                                                                                                                                                                                                                                                                      |\n",
      "|This is a great tutu and at a really great price. It doesn't look cheap at all. I'm so glad I looked on Amazon and found such an affordable tutu that isn't made poorly. A++                                                                                                                                                                                                                                                                                                                                                                                                                                                                                                                    |1.0  |This is a great tutu and at a really great price It doesnt look cheap at all Im so glad I looked on Amazon and found such an affordable tutu that isnt made poorly A                                                                                                                                                                                                                                                                                                                                                                                                                                                                                                 |\n",
      "+------------------------------------------------------------------------------------------------------------------------------------------------------------------------------------------------------------------------------------------------------------------------------------------------------------------------------------------------------------------------------------------------------------------------------------------------------------------------------------------------------------------------------------------------------------------------------------------------------------------------------------------------------------------------------------------------+-----+---------------------------------------------------------------------------------------------------------------------------------------------------------------------------------------------------------------------------------------------------------------------------------------------------------------------------------------------------------------------------------------------------------------------------------------------------------------------------------------------------------------------------------------------------------------------------------------------------------------------------------------------------------------------+\n",
      "only showing top 5 rows\n",
      "\n"
     ]
    }
   ],
   "source": [
    "final_data.show(n=5, truncate=0)"
   ]
  },
  {
   "cell_type": "code",
   "execution_count": 14,
   "metadata": {},
   "outputs": [],
   "source": [
    "train_data, test_data = final_data.randomSplit([0.8,0.2],seed=42)"
   ]
  },
  {
   "cell_type": "code",
   "execution_count": 15,
   "metadata": {},
   "outputs": [],
   "source": [
    "tokenizer = Tokenizer(inputCol=\"processed_text\", outputCol=\"tokenized_text\")\n",
    "stopwords_remover = StopWordsRemover(inputCol=\"tokenized_text\", outputCol=\"filtered_words\")\n",
    "hashingTF = HashingTF(inputCol=\"filtered_words\", outputCol=\"raw_features\")\n",
    "idf = IDF(inputCol=\"raw_features\", outputCol=\"features\")"
   ]
  },
  {
   "cell_type": "markdown",
   "metadata": {},
   "source": [
    "## Model Building"
   ]
  },
  {
   "cell_type": "markdown",
   "metadata": {},
   "source": [
    "# Naive Bayes Classifier"
   ]
  },
  {
   "cell_type": "code",
   "execution_count": 16,
   "metadata": {},
   "outputs": [],
   "source": [
    "nb = NaiveBayes(labelCol=\"class\", featuresCol=\"features\")\n",
    "pipeline_nb = Pipeline(stages=[tokenizer, stopwords_remover, hashingTF, idf, nb])\n",
    "nb_model = pipeline_nb.fit(train_data)"
   ]
  },
  {
   "cell_type": "code",
   "execution_count": 22,
   "metadata": {},
   "outputs": [
    {
     "name": "stdout",
     "output_type": "stream",
     "text": [
      "+--------------------+-----+--------------------+--------------------+--------------------+--------------------+--------------------+--------------------+--------------------+----------+\n",
      "|          reviewText|class|      processed_text|      tokenized_text|      filtered_words|        raw_features|            features|       rawPrediction|         probability|prediction|\n",
      "+--------------------+-----+--------------------+--------------------+--------------------+--------------------+--------------------+--------------------+--------------------+----------+\n",
      "|!!!For as much as...|  0.0|For as much as th...|[for, as, much, a...|[much, boots, cos...|(262144,[5381,655...|(262144,[5381,655...|[-529.81268026826...|[0.99999951334894...|       0.0|\n",
      "|\"\"\"\"YOU GET WHAT ...|  0.0|YOU GET WHAT YOU ...|[you, get, what, ...|[get, pay, forthi...|(262144,[1546,331...|(262144,[1546,331...|[-1277.1973837243...|[1.0,1.8299602968...|       0.0|\n",
      "|\"Awesome\"  Earrin...|  1.0|Awesome  Earrings...|[awesome, , earri...|[awesome, , earri...|(262144,[14974,19...|(262144,[14974,19...|[-582.11952767355...|[7.41441148675171...|       1.0|\n",
      "|\"Curves\" are a br...|  1.0|Curves are a bril...|[curves, are, a, ...|[curves, brillian...|(262144,[5381,603...|(262144,[5381,603...|[-1844.0990101086...|[2.53146492575232...|       1.0|\n",
      "|\"Fluffies\" are th...|  1.0|Fluffies are the ...|[fluffies, are, t...|[fluffies, dress,...|(262144,[9886,198...|(262144,[9886,198...|[-578.99754979926...|[0.22728078294700...|       1.0|\n",
      "+--------------------+-----+--------------------+--------------------+--------------------+--------------------+--------------------+--------------------+--------------------+----------+\n",
      "only showing top 5 rows\n",
      "\n"
     ]
    }
   ],
   "source": [
    "nb_predictions = nb_model.transform(test_data)\n",
    "nb_predictions.show(n=5)"
   ]
  },
  {
   "cell_type": "code",
   "execution_count": 21,
   "metadata": {},
   "outputs": [
    {
     "name": "stdout",
     "output_type": "stream",
     "text": [
      "         class  prediction\n",
      "0          0.0         0.0\n",
      "1          0.0         0.0\n",
      "2          1.0         1.0\n",
      "3          1.0         1.0\n",
      "4          1.0         1.0\n",
      "...        ...         ...\n",
      "1100982    1.0         1.0\n",
      "1100983    0.0         0.0\n",
      "1100984    0.0         0.0\n",
      "1100985    0.0         0.0\n",
      "1100986    0.0         0.0\n",
      "\n",
      "[1100987 rows x 2 columns]\n"
     ]
    }
   ],
   "source": [
    "nb_predictions_pd = nb_predictions.select(\"class\", \"prediction\").toPandas()\n",
    "print(nb_predictions_pd)"
   ]
  },
  {
   "cell_type": "code",
   "execution_count": 24,
   "metadata": {},
   "outputs": [],
   "source": [
    "nb = NaiveBayes(labelCol=\"class\", featuresCol=\"features\")\n",
    "pipeline_nb = Pipeline(stages=[tokenizer, stopwords_remover, hashingTF, idf, nb])\n",
    "nb_model = pipeline_nb.fit(train_data)\n",
    "nb_predictions = nb_model.transform(test_data)\n",
    "nb_predictions_pd = nb_predictions.select(\"class\", \"prediction\").toPandas()\n",
    "print(nb_predictions_pd)\n",
    "y_true = nb_predictions_pd[\"class\"]\n",
    "y_pred = nb_predictions_pd[\"prediction\"]\n",
    "conf_matrix = confusion_matrix(y_true, y_pred)\n",
    "class_report = classification_report(y_true, y_pred)\n",
    "print(\"Naive Bayes Classifier\")\n",
    "print(\"\\n\\nConfusion Matrix:\")\n",
    "print(conf_matrix)\n",
    "print(\"\\nClassification Report:\")\n",
    "print(class_report)"
   ]
  },
  {
   "cell_type": "markdown",
   "metadata": {},
   "source": [
    "# Logistic Regression"
   ]
  },
  {
   "cell_type": "code",
   "execution_count": 20,
   "metadata": {},
   "outputs": [
    {
     "name": "stdout",
     "output_type": "stream",
     "text": [
      "Logistic Regression\n",
      "\n",
      "\n",
      "Confusion Matrix:\n",
      "[[148207  86070]\n",
      " [ 50825 815885]]\n",
      "\n",
      "Classification Report:\n",
      "              precision    recall  f1-score   support\n",
      "\n",
      "         0.0       0.74      0.63      0.68    234277\n",
      "         1.0       0.90      0.94      0.92    866710\n",
      "\n",
      "    accuracy                           0.88   1100987\n",
      "   macro avg       0.82      0.79      0.80   1100987\n",
      "weighted avg       0.87      0.88      0.87   1100987\n",
      "\n"
     ]
    }
   ],
   "source": [
    "lr = LogisticRegression(labelCol=\"class\", featuresCol=\"features\")\n",
    "pipeline_lr = Pipeline(stages=[tokenizer, stopwords_remover, hashingTF, idf, lr])\n",
    "lr_model = pipeline_lr.fit(train_data)\n",
    "lr_predictions = lr_model.transform(test_data)\n",
    "lr_predictions_pd = lr_predictions.select(\"class\", \"prediction\").toPandas()\n",
    "y_true = lr_predictions_pd[\"class\"]\n",
    "y_pred = lr_predictions_pd[\"prediction\"]\n",
    "conf_matrix = confusion_matrix(y_true, y_pred)\n",
    "class_report = classification_report(y_true, y_pred)\n",
    "print(\"Logistic Regression\")\n",
    "print(\"\\n\\nConfusion Matrix:\")\n",
    "print(conf_matrix)\n",
    "print(\"\\nClassification Report:\")\n",
    "print(class_report)"
   ]
  },
  {
   "cell_type": "markdown",
   "metadata": {},
   "source": [
    "* Session 26.7s\n",
    "* Loading Data: 1m 27.7s\n",
    "* Naive Bayes: 31m 48s\n",
    "* Logistic Regression: 62m 57.4s"
   ]
  },
  {
   "cell_type": "code",
   "execution_count": null,
   "metadata": {},
   "outputs": [],
   "source": []
  }
 ],
 "metadata": {
  "kernelspec": {
   "display_name": "spark-mlib",
   "language": "python",
   "name": "python3"
  },
  "language_info": {
   "codemirror_mode": {
    "name": "ipython",
    "version": 3
   },
   "file_extension": ".py",
   "mimetype": "text/x-python",
   "name": "python",
   "nbconvert_exporter": "python",
   "pygments_lexer": "ipython3",
   "version": "3.9.7"
  },
  "orig_nbformat": 4
 },
 "nbformat": 4,
 "nbformat_minor": 2
}
